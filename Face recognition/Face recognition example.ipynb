{
 "cells": [
  {
   "cell_type": "code",
   "execution_count": 10,
   "id": "c6046735",
   "metadata": {},
   "outputs": [],
   "source": [
    "import cv2\n",
    "facecascade=cv2.CascadeClassifier('haarcascade_frontalface_default.xml')\n"
   ]
  },
  {
   "cell_type": "code",
   "execution_count": 11,
   "id": "3758b39f",
   "metadata": {},
   "outputs": [],
   "source": [
    "image=cv2.imread('istockphoto-947854280-612x612.jpg')\n",
    "gray=cv2.cvtColor(image,cv2.COLOR_BGR2GRAY)"
   ]
  },
  {
   "cell_type": "markdown",
   "id": "e2626eb6",
   "metadata": {},
   "source": [
    "Scale Factor-Parameter specifying how much the image size is reduced\n",
    "\n",
    "minneighbors-parameter specifying how many neighbours each candidate rectangle show\n",
    "\n",
    "minsize-minimum possible size,object smaller than that are ignored"
   ]
  },
  {
   "cell_type": "code",
   "execution_count": 12,
   "id": "4b6b3fd0",
   "metadata": {},
   "outputs": [],
   "source": [
    "faces=facecascade.detectMultiScale(gray,scaleFactor=1.1,minNeighbors=2,minSize=(30,30))"
   ]
  },
  {
   "cell_type": "code",
   "execution_count": 14,
   "id": "5a439c18",
   "metadata": {},
   "outputs": [
    {
     "name": "stdout",
     "output_type": "stream",
     "text": [
      "Found4 faces\n",
      "[[212 264 128 128]\n",
      " [321  39  93  93]\n",
      " [274 164  85  85]\n",
      " [160  80  93  93]]\n"
     ]
    }
   ],
   "source": [
    "print('Found {0} faces'.format(len(faces)))\n",
    "print(faces)\n",
    "\n",
    "for(x,y,w,h) in faces:\n",
    "    cv2.rectangle(image,(x,y),(x+w,y+h),(0,0,255),5)"
   ]
  },
  {
   "cell_type": "code",
   "execution_count": 16,
   "id": "6a408ad3",
   "metadata": {},
   "outputs": [],
   "source": [
    "cv2.imshow(\"faces\",image)\n",
    "cv2.waitKey(0)\n",
    "cv2.destroyAllWindows()"
   ]
  },
  {
   "cell_type": "markdown",
   "id": "9490d62c",
   "metadata": {},
   "source": [
    "Cascade Classifier: class in openCV used for object detection using Haar like features.its specifically designrd to detect various objects based on pertained xml classifiers.\n",
    "\n",
    "haarcascade_frontalface_default.xml:file contained pre-trained model for detecting frontal facefile include necessory info to detect faces using Haarcascade method\n",
    "\n",
    "face_clsfr:store initialized face detection classifier"
   ]
  },
  {
   "cell_type": "code",
   "execution_count": null,
   "id": "a6a45d49",
   "metadata": {},
   "outputs": [],
   "source": []
  }
 ],
 "metadata": {
  "kernelspec": {
   "display_name": "Python 3 (ipykernel)",
   "language": "python",
   "name": "python3"
  },
  "language_info": {
   "codemirror_mode": {
    "name": "ipython",
    "version": 3
   },
   "file_extension": ".py",
   "mimetype": "text/x-python",
   "name": "python",
   "nbconvert_exporter": "python",
   "pygments_lexer": "ipython3",
   "version": "3.11.5"
  }
 },
 "nbformat": 4,
 "nbformat_minor": 5
}
