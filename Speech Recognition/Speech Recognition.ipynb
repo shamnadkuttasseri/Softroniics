{
 "cells": [
  {
   "cell_type": "markdown",
   "id": "42647399",
   "metadata": {},
   "source": [
    "Speech Recognition\n",
    "\n",
    "Speechrecognition library in python serves the purpose of providing with a convenient and easy-to-use interface for performing speech recognition task within Python Programs.\n",
    "\n",
    "It allows you to transcribe speech from various audio sources such as microphone input,audio files or audio streams.\n",
    "\n",
    "Speech Recognition:The primary purpose of the library is to transcribe spoken language into text."
   ]
  },
  {
   "cell_type": "code",
   "execution_count": null,
   "id": "0d28c433",
   "metadata": {},
   "outputs": [],
   "source": [
    "!pip install SpeechRecognition"
   ]
  },
  {
   "cell_type": "code",
   "execution_count": null,
   "id": "1d211df3",
   "metadata": {},
   "outputs": [],
   "source": [
    "!pip install pyaudio"
   ]
  },
  {
   "cell_type": "markdown",
   "id": "92321158",
   "metadata": {},
   "source": [
    "Audio playback:you can use pyaudio to play audio files or generate audio signals in real time\n",
    "\n",
    "Audio recording:pyaudio enables you to record audio from microphone or other input devices."
   ]
  },
  {
   "cell_type": "code",
   "execution_count": 8,
   "id": "23f29276",
   "metadata": {},
   "outputs": [
    {
     "name": "stdout",
     "output_type": "stream",
     "text": [
      "say anything:\n",
      "high pictures video song download\n"
     ]
    }
   ],
   "source": [
    "import speech_recognition as sr\n",
    "\n",
    "r=sr.Recognizer()\n",
    "\n",
    "with sr.Microphone() as source:\n",
    "    r.adjust_for_ambient_noise(source,duration=5)\n",
    "    #r.energy_threshold()\n",
    "    print(\"say anything:\")\n",
    "    audio=r.listen(source)\n",
    "    try:\n",
    "        text=r.recognize_google(audio)\n",
    "        print(text)\n",
    "    except:\n",
    "        print(\"sorry,could not recognise\")"
   ]
  },
  {
   "cell_type": "code",
   "execution_count": null,
   "id": "4eda4838",
   "metadata": {},
   "outputs": [],
   "source": []
  }
 ],
 "metadata": {
  "kernelspec": {
   "display_name": "Python 3 (ipykernel)",
   "language": "python",
   "name": "python3"
  },
  "language_info": {
   "codemirror_mode": {
    "name": "ipython",
    "version": 3
   },
   "file_extension": ".py",
   "mimetype": "text/x-python",
   "name": "python",
   "nbconvert_exporter": "python",
   "pygments_lexer": "ipython3",
   "version": "3.11.5"
  }
 },
 "nbformat": 4,
 "nbformat_minor": 5
}
