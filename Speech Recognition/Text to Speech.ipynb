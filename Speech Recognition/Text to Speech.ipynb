{
 "cells": [
  {
   "cell_type": "markdown",
   "id": "a8f398bc",
   "metadata": {},
   "source": [
    "#### online method"
   ]
  },
  {
   "cell_type": "code",
   "execution_count": 1,
   "id": "7a16b36c",
   "metadata": {},
   "outputs": [
    {
     "name": "stdout",
     "output_type": "stream",
     "text": [
      "Requirement already satisfied: gtts in c:\\users\\pc\\anaconda3\\lib\\site-packages (2.5.2)\n",
      "Requirement already satisfied: requests<3,>=2.27 in c:\\users\\pc\\anaconda3\\lib\\site-packages (from gtts) (2.31.0)\n",
      "Requirement already satisfied: click<8.2,>=7.1 in c:\\users\\pc\\anaconda3\\lib\\site-packages (from gtts) (8.0.4)\n",
      "Requirement already satisfied: colorama in c:\\users\\pc\\anaconda3\\lib\\site-packages (from click<8.2,>=7.1->gtts) (0.4.6)\n",
      "Requirement already satisfied: charset-normalizer<4,>=2 in c:\\users\\pc\\anaconda3\\lib\\site-packages (from requests<3,>=2.27->gtts) (2.0.4)\n",
      "Requirement already satisfied: idna<4,>=2.5 in c:\\users\\pc\\anaconda3\\lib\\site-packages (from requests<3,>=2.27->gtts) (3.4)\n",
      "Requirement already satisfied: urllib3<3,>=1.21.1 in c:\\users\\pc\\anaconda3\\lib\\site-packages (from requests<3,>=2.27->gtts) (1.26.16)\n",
      "Requirement already satisfied: certifi>=2017.4.17 in c:\\users\\pc\\anaconda3\\lib\\site-packages (from requests<3,>=2.27->gtts) (2024.2.2)\n"
     ]
    }
   ],
   "source": [
    "!pip install gtts"
   ]
  },
  {
   "cell_type": "code",
   "execution_count": 2,
   "id": "9868ed1a",
   "metadata": {},
   "outputs": [],
   "source": [
    "from gtts import gTTS\n",
    "import os"
   ]
  },
  {
   "cell_type": "markdown",
   "id": "4a6c30a4",
   "metadata": {},
   "source": [
    "* gtts is the google Text-to-Speech library to convert text to speech\n",
    "* os is a standard library in python that provides a way of using operating system dependent functionality like reading or writing to the file system nd executing system commands"
   ]
  },
  {
   "cell_type": "code",
   "execution_count": 3,
   "id": "159b00f5",
   "metadata": {},
   "outputs": [
    {
     "name": "stdout",
     "output_type": "stream",
     "text": [
      "Saved TTS to output.mp3\n"
     ]
    }
   ],
   "source": [
    "def text_to_speech(text,output_file):\n",
    "    #convert text to speech\n",
    "    tts=gTTS(text=text,lang='en')\n",
    "    #save the speech to an audio file\n",
    "    tts.save(output_file)\n",
    "    print(f\"Saved TTS to {output_file}\")\n",
    "    #play the audio file(windows)\n",
    "    os.system(f\"start{output_file}\")\n",
    "    \n",
    "if __name__ ==\"__main__\":\n",
    "    #Define the text to be converted to speech\n",
    "    text=\"Shinas sir poliiiiiiii\"\n",
    "    #define the output file name\n",
    "    output_file=\"output.mp3\"\n",
    "    #call the function\n",
    "    text_to_speech(text,output_file)"
   ]
  },
  {
   "cell_type": "markdown",
   "id": "1fe98492",
   "metadata": {},
   "source": [
    "This block checks if the script is being run directly (not imported as a module in another script).\n",
    "\n",
    "It defines the text to be converted and the name of the output file.\n",
    "It calls the text_to_speech function with the defined text and output file name."
   ]
  },
  {
   "cell_type": "markdown",
   "id": "ca44dbc7",
   "metadata": {},
   "source": [
    "#### offline method"
   ]
  },
  {
   "cell_type": "code",
   "execution_count": 4,
   "id": "fb015535",
   "metadata": {},
   "outputs": [
    {
     "name": "stdout",
     "output_type": "stream",
     "text": [
      "Requirement already satisfied: pyttsx3 in c:\\users\\pc\\anaconda3\\lib\\site-packages (2.90)\n",
      "Requirement already satisfied: comtypes in c:\\users\\pc\\anaconda3\\lib\\site-packages (from pyttsx3) (1.4.5)\n",
      "Requirement already satisfied: pypiwin32 in c:\\users\\pc\\anaconda3\\lib\\site-packages (from pyttsx3) (223)\n",
      "Requirement already satisfied: pywin32 in c:\\users\\pc\\anaconda3\\lib\\site-packages (from pyttsx3) (305.1)\n"
     ]
    }
   ],
   "source": [
    "!pip install pyttsx3"
   ]
  },
  {
   "cell_type": "code",
   "execution_count": 7,
   "id": "74823e4e",
   "metadata": {
    "scrolled": false
   },
   "outputs": [
    {
     "name": "stdout",
     "output_type": "stream",
     "text": [
      "Saved TTS to output_OFFLINE.mp3\n"
     ]
    }
   ],
   "source": [
    "import pyttsx3\n",
    "import os\n",
    "\n",
    "def text_to_speech(text,output_file):\n",
    "    #initialize the TTS engine\n",
    "    engine=pyttsx3.init()\n",
    "    \n",
    "    #set properties (optional)\n",
    "    engine.setProperty('rate',150) #speed of speech\n",
    "    engine.setProperty('volume',1)#volume level(0.0 to 1.0)\n",
    "    \n",
    "    #save the speech to an audio file\n",
    "    engine.save_to_file(text,output_file)\n",
    "    \n",
    "    #Run the speech engine\n",
    "    engine.runAndWait()\n",
    "    \n",
    "    \n",
    "    print(f\"Saved TTS to {output_file}\")\n",
    "    \n",
    "    #play the audio file(windows)\n",
    "    os.system(f\"start{output_file}\")\n",
    "    \n",
    "if __name__ == \"__main__\":\n",
    "    #define the text to be converted\n",
    "    text=\"Happy ONamm\"\n",
    "    #define the output file name\n",
    "    output_file=\"output_OFFLINE.mp3\"\n",
    "    #calling the function\n",
    "    text_to_speech(text,output_file)\n",
    "    "
   ]
  },
  {
   "cell_type": "markdown",
   "id": "d0a9c71b",
   "metadata": {},
   "source": [
    "pyttsx3 is used for text-to-speech conversion.\n",
    "os is used to interact with the operating system to play the audio file.\n",
    "\n",
    "\n",
    "pyttsx3.init() initializes the text-to-speech engine. This engine will handle the conversion of text to speech.\n",
    "\n",
    "\n",
    "Set Properties (Optional):\n",
    "engine.setProperty('rate', 150): This sets the speed of the speech. The value 150 is the words per minute. You can adjust this to make the speech faster or slower.\n",
    "engine.setProperty('volume', 1): This sets the volume level of the speech The value 1 represents the maximum volume. You can set it between 0.0 (minimum) and 1.0 (maximum)\n",
    "\n",
    "Save Speech to an Audio File:\n",
    "engine.save_to_file(text, output_file): This method converts the given text to speech and saves it to the specified file (output_file). In this case, it saves the audio as output.mp3.    .\n",
    "    \n",
    "   \n",
    "Run the Speech Engine:\n",
    "engine.runAndWait(): This function processes all the currently queued commands, which includes converting the text to speech and saving it to\n",
    "the file. It ensures that the conversion and saving are completed before the program procee\n",
    "\n",
    "Print Confirmation:\n",
    "print(f\"Saved TTS to {output_file}\"): This prints a confirmation message to the console, indicating that the text-to-speech conversion has been saved to the specified file.\n",
    "\n",
    "    \n",
    "Play the Audio File (Windows):\n",
    "os.system(f\"start {output_file}\"): This uses the os module to execute the system command start, which opens the specified file (output_file) using the default media player on windows.\n",
    "\n",
    "Main Block:\n",
    "This block ensures that the following code is executed only when the script is run directly, not when it is imported as a module in another script.\n"
   ]
  },
  {
   "cell_type": "code",
   "execution_count": null,
   "id": "4967a8db",
   "metadata": {},
   "outputs": [],
   "source": []
  }
 ],
 "metadata": {
  "kernelspec": {
   "display_name": "Python 3 (ipykernel)",
   "language": "python",
   "name": "python3"
  },
  "language_info": {
   "codemirror_mode": {
    "name": "ipython",
    "version": 3
   },
   "file_extension": ".py",
   "mimetype": "text/x-python",
   "name": "python",
   "nbconvert_exporter": "python",
   "pygments_lexer": "ipython3",
   "version": "3.11.5"
  }
 },
 "nbformat": 4,
 "nbformat_minor": 5
}
