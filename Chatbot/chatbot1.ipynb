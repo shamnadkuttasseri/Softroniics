{
 "cells": [
  {
   "cell_type": "code",
   "execution_count": 1,
   "metadata": {},
   "outputs": [
    {
     "name": "stdout",
     "output_type": "stream",
     "text": [
      "Collecting chatterbot==1.0.4\n",
      "  Obtaining dependency information for chatterbot==1.0.4 from https://files.pythonhosted.org/packages/af/76/6a5f62b13d857248910583ad75fd2884a2639b3cf165eae508e91b45df1b/ChatterBot-1.0.4-py2.py3-none-any.whl.metadata\n",
      "  Downloading ChatterBot-1.0.4-py2.py3-none-any.whl.metadata (8.0 kB)\n",
      "Collecting chatterbot-corpus<1.3,>=1.2 (from chatterbot==1.0.4)\n",
      "  Obtaining dependency information for chatterbot-corpus<1.3,>=1.2 from https://files.pythonhosted.org/packages/ed/19/f8b41daf36fe4b0f43e283a820362ffdb2c1128600ab4ee187e84262fa4d/chatterbot_corpus-1.2.0-py2.py3-none-any.whl.metadata\n",
      "  Downloading chatterbot_corpus-1.2.0-py2.py3-none-any.whl.metadata (5.0 kB)\n",
      "Collecting mathparse<0.2,>=0.1 (from chatterbot==1.0.4)\n",
      "  Obtaining dependency information for mathparse<0.2,>=0.1 from https://files.pythonhosted.org/packages/c3/e5/4910fb85950cb960fcf3f5aabe1c8e55f5c9201788a1c1302b570a7e1f84/mathparse-0.1.2-py3-none-any.whl.metadata\n",
      "  Downloading mathparse-0.1.2-py3-none-any.whl.metadata (776 bytes)\n",
      "Collecting nltk<4.0,>=3.2 (from chatterbot==1.0.4)\n",
      "  Obtaining dependency information for nltk<4.0,>=3.2 from https://files.pythonhosted.org/packages/4d/66/7d9e26593edda06e8cb531874633f7c2372279c3b0f46235539fe546df8b/nltk-3.9.1-py3-none-any.whl.metadata\n",
      "  Downloading nltk-3.9.1-py3-none-any.whl.metadata (2.9 kB)\n",
      "Collecting pymongo<4.0,>=3.3 (from chatterbot==1.0.4)\n",
      "  Downloading pymongo-3.13.0.tar.gz (804 kB)\n",
      "     ---------------------------------------- 0.0/804.4 kB ? eta -:--:--\n",
      "      ------------------------------------ 20.5/804.4 kB 330.3 kB/s eta 0:00:03\n",
      "     - ----------------------------------- 41.0/804.4 kB 393.8 kB/s eta 0:00:02\n",
      "     ---- -------------------------------- 92.2/804.4 kB 655.4 kB/s eta 0:00:02\n",
      "     -------- ----------------------------- 174.1/804.4 kB 1.1 MB/s eta 0:00:01\n",
      "     ------------ ------------------------- 266.2/804.4 kB 1.3 MB/s eta 0:00:01\n",
      "     ------------------ ------------------- 389.1/804.4 kB 1.4 MB/s eta 0:00:01\n",
      "     ----------------------------- -------- 634.9/804.4 kB 2.0 MB/s eta 0:00:01\n",
      "     -------------------------------------- 804.4/804.4 kB 2.2 MB/s eta 0:00:00\n",
      "  Installing build dependencies: started\n",
      "  Installing build dependencies: finished with status 'done'\n",
      "  Getting requirements to build wheel: started\n",
      "  Getting requirements to build wheel: finished with status 'done'\n",
      "  Preparing metadata (pyproject.toml): started\n",
      "  Preparing metadata (pyproject.toml): finished with status 'done'\n",
      "Collecting python-dateutil<2.8,>=2.7 (from chatterbot==1.0.4)\n",
      "  Obtaining dependency information for python-dateutil<2.8,>=2.7 from https://files.pythonhosted.org/packages/74/68/d87d9b36af36f44254a8d512cbfc48369103a3b9e474be9bdfe536abfc45/python_dateutil-2.7.5-py2.py3-none-any.whl.metadata\n",
      "  Downloading python_dateutil-2.7.5-py2.py3-none-any.whl.metadata (7.5 kB)\n",
      "Collecting sqlalchemy<1.3,>=1.2 (from chatterbot==1.0.4)\n",
      "  Downloading SQLAlchemy-1.2.19.tar.gz (5.7 MB)\n",
      "     ---------------------------------------- 0.0/5.7 MB ? eta -:--:--\n",
      "     ----- ---------------------------------- 0.8/5.7 MB 16.1 MB/s eta 0:00:01\n",
      "     ------------- -------------------------- 1.9/5.7 MB 19.8 MB/s eta 0:00:01\n",
      "     --------------------- ------------------ 3.0/5.7 MB 21.3 MB/s eta 0:00:01\n",
      "     ------------------------------ --------- 4.4/5.7 MB 23.1 MB/s eta 0:00:01\n",
      "     ------------------------------------- -- 5.4/5.7 MB 24.5 MB/s eta 0:00:01\n",
      "     ------------------------------------- -- 5.4/5.7 MB 24.5 MB/s eta 0:00:01\n",
      "     ---------------------------------------  5.7/5.7 MB 20.0 MB/s eta 0:00:01\n",
      "     ---------------------------------------- 5.7/5.7 MB 17.2 MB/s eta 0:00:00\n",
      "  Installing build dependencies: started\n",
      "  Installing build dependencies: finished with status 'done'\n",
      "  Getting requirements to build wheel: started\n",
      "  Getting requirements to build wheel: finished with status 'done'\n",
      "  Preparing metadata (pyproject.toml): started\n",
      "  Preparing metadata (pyproject.toml): finished with status 'done'\n",
      "Collecting pint>=0.8.1 (from chatterbot==1.0.4)\n",
      "  Obtaining dependency information for pint>=0.8.1 from https://files.pythonhosted.org/packages/3f/2b/abe15c62ef1aece41d0799f31ba97d298aad9c76bc31dd655c387c29f17a/Pint-0.24.3-py3-none-any.whl.metadata\n",
      "  Downloading Pint-0.24.3-py3-none-any.whl.metadata (8.5 kB)\n",
      "Collecting PyYAML<4.0,>=3.12 (from chatterbot-corpus<1.3,>=1.2->chatterbot==1.0.4)\n",
      "  Downloading PyYAML-3.13.tar.gz (270 kB)\n",
      "     ---------------------------------------- 0.0/270.6 kB ? eta -:--:--\n",
      "     ------------------------------------- 270.6/270.6 kB 16.3 MB/s eta 0:00:00\n",
      "  Installing build dependencies: started\n",
      "  Installing build dependencies: finished with status 'done'\n",
      "  Getting requirements to build wheel: started\n",
      "  Getting requirements to build wheel: finished with status 'done'\n",
      "  Preparing metadata (pyproject.toml): started\n",
      "  Preparing metadata (pyproject.toml): finished with status 'done'\n",
      "Requirement already satisfied: click in c:\\users\\pc\\appdata\\local\\programs\\python\\python312\\lib\\site-packages (from nltk<4.0,>=3.2->chatterbot==1.0.4) (8.1.7)\n",
      "Collecting joblib (from nltk<4.0,>=3.2->chatterbot==1.0.4)\n",
      "  Obtaining dependency information for joblib from https://files.pythonhosted.org/packages/91/29/df4b9b42f2be0b623cbd5e2140cafcaa2bef0759a00b7b70104dcfe2fb51/joblib-1.4.2-py3-none-any.whl.metadata\n",
      "  Downloading joblib-1.4.2-py3-none-any.whl.metadata (5.4 kB)\n",
      "Collecting regex>=2021.8.3 (from nltk<4.0,>=3.2->chatterbot==1.0.4)\n",
      "  Obtaining dependency information for regex>=2021.8.3 from https://files.pythonhosted.org/packages/6e/16/efc5f194778bf43e5888209e5cec4b258005d37c613b67ae137df3b89c53/regex-2024.9.11-cp312-cp312-win_amd64.whl.metadata\n",
      "  Downloading regex-2024.9.11-cp312-cp312-win_amd64.whl.metadata (41 kB)\n",
      "     ---------------------------------------- 0.0/41.5 kB ? eta -:--:--\n",
      "     ---------------------------------------- 41.5/41.5 kB 2.0 MB/s eta 0:00:00\n",
      "Collecting tqdm (from nltk<4.0,>=3.2->chatterbot==1.0.4)\n",
      "  Obtaining dependency information for tqdm from https://files.pythonhosted.org/packages/48/5d/acf5905c36149bbaec41ccf7f2b68814647347b72075ac0b1fe3022fdc73/tqdm-4.66.5-py3-none-any.whl.metadata\n",
      "  Downloading tqdm-4.66.5-py3-none-any.whl.metadata (57 kB)\n",
      "     ---------------------------------------- 0.0/57.6 kB ? eta -:--:--\n",
      "     ---------------------------------------- 57.6/57.6 kB 3.2 MB/s eta 0:00:00\n",
      "Collecting appdirs>=1.4.4 (from pint>=0.8.1->chatterbot==1.0.4)\n",
      "  Obtaining dependency information for appdirs>=1.4.4 from https://files.pythonhosted.org/packages/3b/00/2344469e2084fb287c2e0b57b72910309874c3245463acd6cf5e3db69324/appdirs-1.4.4-py2.py3-none-any.whl.metadata\n",
      "  Downloading appdirs-1.4.4-py2.py3-none-any.whl.metadata (9.0 kB)\n",
      "Requirement already satisfied: typing-extensions in c:\\users\\pc\\appdata\\local\\programs\\python\\python312\\lib\\site-packages (from pint>=0.8.1->chatterbot==1.0.4) (4.12.2)\n",
      "Collecting flexcache>=0.3 (from pint>=0.8.1->chatterbot==1.0.4)\n",
      "  Obtaining dependency information for flexcache>=0.3 from https://files.pythonhosted.org/packages/27/cd/c883e1a7c447479d6e13985565080e3fea88ab5a107c21684c813dba1875/flexcache-0.3-py3-none-any.whl.metadata\n",
      "  Downloading flexcache-0.3-py3-none-any.whl.metadata (7.0 kB)\n",
      "Collecting flexparser>=0.3 (from pint>=0.8.1->chatterbot==1.0.4)\n",
      "  Obtaining dependency information for flexparser>=0.3 from https://files.pythonhosted.org/packages/a3/28/5ce78a4838bb9da1bd9f64bc79ba12ddbfcb4824a11ef41da6f05d3240ef/flexparser-0.3.1-py3-none-any.whl.metadata\n",
      "  Downloading flexparser-0.3.1-py3-none-any.whl.metadata (18 kB)\n",
      "Requirement already satisfied: six>=1.5 in c:\\users\\pc\\appdata\\local\\programs\\python\\python312\\lib\\site-packages (from python-dateutil<2.8,>=2.7->chatterbot==1.0.4) (1.16.0)\n",
      "Requirement already satisfied: colorama in c:\\users\\pc\\appdata\\local\\programs\\python\\python312\\lib\\site-packages (from click->nltk<4.0,>=3.2->chatterbot==1.0.4) (0.4.6)\n",
      "Downloading ChatterBot-1.0.4-py2.py3-none-any.whl (66 kB)\n",
      "   ---------------------------------------- 0.0/66.3 kB ? eta -:--:--\n",
      "   ---------------------------------------- 66.3/66.3 kB ? eta 0:00:00\n",
      "Downloading chatterbot_corpus-1.2.0-py2.py3-none-any.whl (117 kB)\n",
      "   ---------------------------------------- 0.0/117.3 kB ? eta -:--:--\n",
      "   ---------------------------------------- 117.3/117.3 kB 6.7 MB/s eta 0:00:00\n",
      "Downloading mathparse-0.1.2-py3-none-any.whl (7.2 kB)\n",
      "Downloading nltk-3.9.1-py3-none-any.whl (1.5 MB)\n",
      "   ---------------------------------------- 0.0/1.5 MB ? eta -:--:--\n",
      "   ---------------------------------------  1.5/1.5 MB 48.2 MB/s eta 0:00:01\n",
      "   ---------------------------------------- 1.5/1.5 MB 32.5 MB/s eta 0:00:00\n",
      "Downloading Pint-0.24.3-py3-none-any.whl (301 kB)\n",
      "   ---------------------------------------- 0.0/301.8 kB ? eta -:--:--\n",
      "   --------------------------------------- 301.8/301.8 kB 19.4 MB/s eta 0:00:00\n",
      "Downloading python_dateutil-2.7.5-py2.py3-none-any.whl (225 kB)\n",
      "   ---------------------------------------- 0.0/225.7 kB ? eta -:--:--\n",
      "   --------------------------------------- 225.7/225.7 kB 13.5 MB/s eta 0:00:00\n",
      "Downloading appdirs-1.4.4-py2.py3-none-any.whl (9.6 kB)\n",
      "Downloading flexcache-0.3-py3-none-any.whl (13 kB)\n",
      "Downloading flexparser-0.3.1-py3-none-any.whl (27 kB)\n",
      "Downloading regex-2024.9.11-cp312-cp312-win_amd64.whl (273 kB)\n",
      "   ---------------------------------------- 0.0/273.5 kB ? eta -:--:--\n",
      "   --------------------------------------- 273.5/273.5 kB 16.5 MB/s eta 0:00:00\n",
      "Downloading joblib-1.4.2-py3-none-any.whl (301 kB)\n",
      "   ---------------------------------------- 0.0/301.8 kB ? eta -:--:--\n",
      "   --------------------------------------- 301.8/301.8 kB 19.4 MB/s eta 0:00:00\n",
      "Downloading tqdm-4.66.5-py3-none-any.whl (78 kB)\n",
      "   ---------------------------------------- 0.0/78.4 kB ? eta -:--:--\n",
      "   ---------------------------------------- 78.4/78.4 kB 4.5 MB/s eta 0:00:00\n",
      "Building wheels for collected packages: pymongo, sqlalchemy, PyYAML\n",
      "  Building wheel for pymongo (pyproject.toml): started\n",
      "  Building wheel for pymongo (pyproject.toml): finished with status 'done'\n",
      "  Created wheel for pymongo: filename=pymongo-3.13.0-cp312-cp312-win_amd64.whl size=360251 sha256=c06c3ae88580b186632252b2e38125757ba13118c57f79aa36f5a6f3690c8a4a\n",
      "  Stored in directory: c:\\users\\pc\\appdata\\local\\pip\\cache\\wheels\\36\\d8\\d4\\b5636cc3c4b99684d3aa369a2d75661a06b522ed4e382a8dfa\n",
      "  Building wheel for sqlalchemy (pyproject.toml): started\n",
      "  Building wheel for sqlalchemy (pyproject.toml): finished with status 'done'\n",
      "  Created wheel for sqlalchemy: filename=SQLAlchemy-1.2.19-cp312-cp312-win_amd64.whl size=1093563 sha256=a50cebdea1b65737ae96657958187aca7b6a176a01803ca438a4ee7a26c240da\n",
      "  Stored in directory: c:\\users\\pc\\appdata\\local\\pip\\cache\\wheels\\0b\\7e\\50\\84e9e1171b9f75c3c2c401f9360cf19609f1e07087d721e480\n",
      "  Building wheel for PyYAML (pyproject.toml): started\n",
      "  Building wheel for PyYAML (pyproject.toml): finished with status 'done'\n",
      "  Created wheel for PyYAML: filename=PyYAML-3.13-cp312-cp312-win_amd64.whl size=43111 sha256=00de9564100cedd34287c11196b82a92a6443bd3a22bc352702253a838bbb9bd\n",
      "  Stored in directory: c:\\users\\pc\\appdata\\local\\pip\\cache\\wheels\\16\\8f\\dc\\41349f3faf779c509beea0a3af5671234b704cb0eeedce6cc6\n",
      "Successfully built pymongo sqlalchemy PyYAML\n",
      "Installing collected packages: sqlalchemy, PyYAML, mathparse, appdirs, tqdm, regex, python-dateutil, pymongo, joblib, flexparser, flexcache, chatterbot-corpus, pint, nltk, chatterbot\n",
      "  Attempting uninstall: python-dateutil\n",
      "    Found existing installation: python-dateutil 2.9.0.post0\n",
      "    Uninstalling python-dateutil-2.9.0.post0:\n",
      "      Successfully uninstalled python-dateutil-2.9.0.post0\n",
      "Successfully installed PyYAML-3.13 appdirs-1.4.4 chatterbot-1.0.4 chatterbot-corpus-1.2.0 flexcache-0.3 flexparser-0.3.1 joblib-1.4.2 mathparse-0.1.2 nltk-3.9.1 pint-0.24.3 pymongo-3.13.0 python-dateutil-2.7.5 regex-2024.9.11 sqlalchemy-1.2.19 tqdm-4.66.5\n",
      "Note: you may need to restart the kernel to use updated packages.\n"
     ]
    },
    {
     "name": "stderr",
     "output_type": "stream",
     "text": [
      "ERROR: pip's dependency resolver does not currently take into account all the packages that are installed. This behaviour is the source of the following dependency conflicts.\n",
      "jupyter-client 8.6.3 requires python-dateutil>=2.8.2, but you have python-dateutil 2.7.5 which is incompatible.\n",
      "pandas 2.2.2 requires python-dateutil>=2.8.2, but you have python-dateutil 2.7.5 which is incompatible.\n",
      "\n",
      "[notice] A new release of pip is available: 23.2.1 -> 24.2\n",
      "[notice] To update, run: python.exe -m pip install --upgrade pip\n"
     ]
    }
   ],
   "source": [
    "pip install chatterbot==1.0.4"
   ]
  },
  {
   "cell_type": "code",
   "execution_count": 2,
   "metadata": {},
   "outputs": [
    {
     "name": "stdout",
     "output_type": "stream",
     "text": [
      "Requirement already satisfied: chatterbot-corpus in c:\\users\\pc\\appdata\\local\\programs\\python\\python312\\lib\\site-packages (1.2.0)\n",
      "Requirement already satisfied: PyYAML<4.0,>=3.12 in c:\\users\\pc\\appdata\\local\\programs\\python\\python312\\lib\\site-packages (from chatterbot-corpus) (3.13)\n",
      "Note: you may need to restart the kernel to use updated packages.\n"
     ]
    },
    {
     "name": "stderr",
     "output_type": "stream",
     "text": [
      "\n",
      "[notice] A new release of pip is available: 23.2.1 -> 24.2\n",
      "[notice] To update, run: python.exe -m pip install --upgrade pip\n"
     ]
    }
   ],
   "source": [
    "pip install chatterbot-corpus\n",
    "#corpus =data or chats,set of conversation\n"
   ]
  },
  {
   "cell_type": "code",
   "execution_count": 3,
   "metadata": {},
   "outputs": [
    {
     "name": "stdout",
     "output_type": "stream",
     "text": [
      "Requirement already satisfied: pytz in c:\\users\\pc\\appdata\\local\\programs\\python\\python312\\lib\\site-packages (2024.2)\n",
      "Note: you may need to restart the kernel to use updated packages.\n"
     ]
    },
    {
     "name": "stderr",
     "output_type": "stream",
     "text": [
      "\n",
      "[notice] A new release of pip is available: 23.2.1 -> 24.2\n",
      "[notice] To update, run: python.exe -m pip install --upgrade pip\n"
     ]
    }
   ],
   "source": [
    "pip install pytz\n",
    "#time zone handing is used by this module"
   ]
  },
  {
   "cell_type": "code",
   "execution_count": 4,
   "metadata": {},
   "outputs": [],
   "source": [
    "from chatterbot import ChatBot\n",
    "from chatterbot.trainers import ChatterBotCorpusTrainer"
   ]
  },
  {
   "cell_type": "code",
   "execution_count": 9,
   "metadata": {},
   "outputs": [
    {
     "name": "stderr",
     "output_type": "stream",
     "text": [
      "[nltk_data] Downloading package averaged_perceptron_tagger to\n",
      "[nltk_data]     C:\\Users\\pc\\AppData\\Roaming\\nltk_data...\n",
      "[nltk_data]   Package averaged_perceptron_tagger is already up-to-\n",
      "[nltk_data]       date!\n",
      "[nltk_data] Downloading package punkt to\n",
      "[nltk_data]     C:\\Users\\pc\\AppData\\Roaming\\nltk_data...\n",
      "[nltk_data]   Package punkt is already up-to-date!\n",
      "[nltk_data] Downloading package stopwords to\n",
      "[nltk_data]     C:\\Users\\pc\\AppData\\Roaming\\nltk_data...\n",
      "[nltk_data]   Package stopwords is already up-to-date!\n"
     ]
    }
   ],
   "source": [
    "mybot=ChatBot('Bot')"
   ]
  },
  {
   "cell_type": "code",
   "execution_count": 13,
   "metadata": {},
   "outputs": [
    {
     "name": "stderr",
     "output_type": "stream",
     "text": [
      "[nltk_data] Downloading package punkt_tab to\n",
      "[nltk_data]     C:\\Users\\pc\\AppData\\Roaming\\nltk_data...\n",
      "[nltk_data]   Unzipping tokenizers\\punkt_tab.zip.\n"
     ]
    },
    {
     "data": {
      "text/plain": [
       "True"
      ]
     },
     "execution_count": 13,
     "metadata": {},
     "output_type": "execute_result"
    }
   ],
   "source": [
    "import nltk\n",
    "nltk.download('punkt_tab')"
   ]
  },
  {
   "cell_type": "code",
   "execution_count": 16,
   "metadata": {},
   "outputs": [
    {
     "name": "stdout",
     "output_type": "stream",
     "text": [
      "Bot: Hello\n"
     ]
    }
   ],
   "source": [
    "qns=input('Me:')\n",
    "\n",
    "response=mybot.get_response(qns)\n",
    "print('Bot:',response)"
   ]
  },
  {
   "cell_type": "code",
   "execution_count": null,
   "metadata": {},
   "outputs": [],
   "source": []
  }
 ],
 "metadata": {
  "kernelspec": {
   "display_name": "Python 3",
   "language": "python",
   "name": "python3"
  },
  "language_info": {
   "codemirror_mode": {
    "name": "ipython",
    "version": 3
   },
   "file_extension": ".py",
   "mimetype": "text/x-python",
   "name": "python",
   "nbconvert_exporter": "python",
   "pygments_lexer": "ipython3",
   "version": "3.12.1"
  }
 },
 "nbformat": 4,
 "nbformat_minor": 2
}
