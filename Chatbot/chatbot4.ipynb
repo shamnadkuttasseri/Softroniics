{
 "cells": [
  {
   "cell_type": "code",
   "execution_count": 2,
   "metadata": {},
   "outputs": [
    {
     "name": "stderr",
     "output_type": "stream",
     "text": [
      "[nltk_data] Downloading package averaged_perceptron_tagger to\n",
      "[nltk_data]     C:\\Users\\pc\\AppData\\Roaming\\nltk_data...\n",
      "[nltk_data]   Package averaged_perceptron_tagger is already up-to-\n",
      "[nltk_data]       date!\n",
      "[nltk_data] Downloading package punkt to\n",
      "[nltk_data]     C:\\Users\\pc\\AppData\\Roaming\\nltk_data...\n",
      "[nltk_data]   Package punkt is already up-to-date!\n",
      "[nltk_data] Downloading package stopwords to\n",
      "[nltk_data]     C:\\Users\\pc\\AppData\\Roaming\\nltk_data...\n",
      "[nltk_data]   Package stopwords is already up-to-date!\n"
     ]
    }
   ],
   "source": [
    "from chatterbot import ChatBot\n",
    "from chatterbot.trainers import ListTrainer\n",
    "\n",
    "bot=ChatBot('jarvis',logic_adapters=['chatterbot.logic.BestMatch',\n",
    "                                     {'import_path':'chatterbot.logic.BestMatch',\n",
    "                                      'default_response':'I am sorry,but i do not understand.',\n",
    "                                      'maximum similarity_threshold':0.90}])"
   ]
  },
  {
   "cell_type": "code",
   "execution_count": 3,
   "metadata": {},
   "outputs": [
    {
     "name": "stdout",
     "output_type": "stream",
     "text": [
      "Package                   Version\n",
      "------------------------- ---------\n",
      "altair                    5.4.1\n",
      "appdirs                   1.4.4\n",
      "asttokens                 2.4.1\n",
      "attrs                     24.2.0\n",
      "blinker                   1.8.2\n",
      "cachetools                5.5.0\n",
      "certifi                   2024.8.30\n",
      "charset-normalizer        3.3.2\n",
      "ChatterBot                1.0.4\n",
      "chatterbot-corpus         1.2.0\n",
      "click                     8.1.7\n",
      "colorama                  0.4.6\n",
      "comm                      0.2.2\n",
      "debugpy                   1.8.6\n",
      "decorator                 5.1.1\n",
      "executing                 2.1.0\n",
      "flexcache                 0.3\n",
      "flexparser                0.3.1\n",
      "gitdb                     4.0.11\n",
      "GitPython                 3.1.43\n",
      "idna                      3.9\n",
      "ipykernel                 6.29.5\n",
      "ipython                   8.27.0\n",
      "jedi                      0.19.1\n",
      "Jinja2                    3.1.4\n",
      "joblib                    1.4.2\n",
      "jsonschema                4.23.0\n",
      "jsonschema-specifications 2023.12.1\n",
      "jupyter_client            8.6.3\n",
      "jupyter_core              5.7.2\n",
      "markdown-it-py            3.0.0\n",
      "MarkupSafe                2.1.5\n",
      "mathparse                 0.1.2\n",
      "matplotlib-inline         0.1.7\n",
      "mdurl                     0.1.2\n",
      "narwhals                  1.8.0\n",
      "nest-asyncio              1.6.0\n",
      "nltk                      3.9.1\n",
      "numpy                     2.1.1\n",
      "packaging                 24.1\n",
      "pandas                    2.2.2\n",
      "parso                     0.8.4\n",
      "pillow                    10.4.0\n",
      "Pint                      0.24.3\n",
      "pip                       23.2.1\n",
      "platformdirs              4.3.6\n",
      "prompt_toolkit            3.0.48\n",
      "protobuf                  5.28.1\n",
      "psutil                    6.0.0\n",
      "pure_eval                 0.2.3\n",
      "pyarrow                   17.0.0\n",
      "pydeck                    0.9.1\n",
      "Pygments                  2.18.0\n",
      "pymongo                   3.13.0\n",
      "python-dateutil           2.7.5\n",
      "pytz                      2024.2\n",
      "pywin32                   306\n",
      "PyYAML                    3.13\n",
      "pyzmq                     26.2.0\n",
      "referencing               0.35.1\n",
      "regex                     2024.9.11\n",
      "requests                  2.32.3\n",
      "rich                      13.8.1\n",
      "rpds-py                   0.20.0\n",
      "six                       1.16.0\n",
      "smmap                     5.0.1\n",
      "SQLAlchemy                1.2.19\n",
      "stack-data                0.6.3\n",
      "streamlit                 1.38.0\n",
      "tenacity                  8.5.0\n",
      "toml                      0.10.2\n",
      "tornado                   6.4.1\n",
      "tqdm                      4.66.5\n",
      "traitlets                 5.14.3\n",
      "typing_extensions         4.12.2\n",
      "tzdata                    2024.1\n",
      "urllib3                   2.2.3\n",
      "watchdog                  4.0.2\n",
      "wcwidth                   0.2.13\n",
      "Note: you may need to restart the kernel to use updated packages.\n"
     ]
    },
    {
     "name": "stderr",
     "output_type": "stream",
     "text": [
      "\n",
      "[notice] A new release of pip is available: 23.2.1 -> 24.2\n",
      "[notice] To update, run: python.exe -m pip install --upgrade pip\n"
     ]
    }
   ],
   "source": [
    "pip list"
   ]
  },
  {
   "cell_type": "code",
   "execution_count": 4,
   "metadata": {},
   "outputs": [],
   "source": [
    "trainer=ListTrainer(bot)"
   ]
  },
  {
   "cell_type": "code",
   "execution_count": 5,
   "metadata": {},
   "outputs": [
    {
     "name": "stdout",
     "output_type": "stream",
     "text": [
      "List Trainer: [####################] 100%\n",
      "List Trainer: [####################] 100%\n",
      "List Trainer: [####################] 100%\n"
     ]
    }
   ],
   "source": [
    "trainer.train([\n",
    "    \"i want to book a movie ticket\",\n",
    "    \"which movie you are looking for ?\",\n",
    "    \"what are the movies playing now\",\n",
    "    \"1.lucifer, 2.bhisma parvam\",\n",
    "    \"Lucifer\",\n",
    "    \"Thats a good movie\",\n",
    "    \"ok i know that\",\n",
    "    \"when are you planning to watch\",\n",
    "    \"tommorow\",\n",
    "    \"ok sir , we have tickets for 3pm tommorow at pvr lulu\",\n",
    "    \"i want 3 tickets\",\n",
    "    \"we have 3 tickets sir\",\n",
    "    \"ok\",\n",
    "    \"what is the payment methods\",\n",
    "    \"what are the payment methods\",\n",
    "    \"upi and debit card\",\n",
    "    \"upi\",\n",
    "    \"you will receive a payment confirmation on gpay, please confirm your payment and reply as done\",\n",
    "    \"Done\",\n",
    "    \"Ok sir we have booked 3 tickets for tommorow 3pm show at pvr lulu, you will receive text message shortly, thank you\"\n",
    "])\n",
    "\n",
    "trainer.train([\n",
    "    \"bhisma parvam\",\n",
    "    \"thats a good movie\"\n",
    "])\n",
    "\n",
    "trainer.train([\n",
    "    \"debit card\",\n",
    "    \"pls provide your debit card number\",\n",
    "    \"0000 0000 0000 0000\",\n",
    "    \"pls provide your cvv\",\n",
    "    \"000\",\n",
    "    \"you will receive an otp to confirm your seat on book my show please verify your payment and reply done\",\n",
    "    \"Done\",\n",
    "    \"Ok sir we have booked 3 tickets for tommorow 3pm show at pvr lulu, you will receive text message shortly, thank you\"\n",
    "])\n"
   ]
  },
  {
   "cell_type": "code",
   "execution_count": 6,
   "metadata": {},
   "outputs": [
    {
     "name": "stdout",
     "output_type": "stream",
     "text": [
      "you will receive an otp to confirm your seat on book my show please verify your payment and reply done\n"
     ]
    }
   ],
   "source": [
    "reply=bot.get_response(\"000\")\n",
    "print(reply)"
   ]
  },
  {
   "cell_type": "code",
   "execution_count": 8,
   "metadata": {},
   "outputs": [
    {
     "name": "stdout",
     "output_type": "stream",
     "text": [
      "welcome to book my show,how can i help you\n",
      "How are you doing?\n",
      "what are the payment methods\n",
      "Which movie areyou looking for\n",
      "bot: bye\n"
     ]
    }
   ],
   "source": [
    "name=input(\"enter your name\")\n",
    "print(\"welcome to book my show,how can i help you\")\n",
    "\n",
    "while True:\n",
    "    request=input(name+\":\")\n",
    "    if request == 'bye':\n",
    "        print('bot:','bye')\n",
    "        break\n",
    "    else:\n",
    "        response=bot.get_response(request)\n",
    "        print(response)\n"
   ]
  },
  {
   "cell_type": "code",
   "execution_count": null,
   "metadata": {},
   "outputs": [],
   "source": []
  }
 ],
 "metadata": {
  "kernelspec": {
   "display_name": "Python 3",
   "language": "python",
   "name": "python3"
  },
  "language_info": {
   "codemirror_mode": {
    "name": "ipython",
    "version": 3
   },
   "file_extension": ".py",
   "mimetype": "text/x-python",
   "name": "python",
   "nbconvert_exporter": "python",
   "pygments_lexer": "ipython3",
   "version": "3.12.1"
  }
 },
 "nbformat": 4,
 "nbformat_minor": 2
}
