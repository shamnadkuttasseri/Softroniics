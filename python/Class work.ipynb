{
 "cells": [
  {
   "cell_type": "markdown",
   "id": "3edc38a2",
   "metadata": {},
   "source": [
    "### 1.Median of Two Sorted Arrays"
   ]
  },
  {
   "cell_type": "code",
   "execution_count": 30,
   "id": "c550e379",
   "metadata": {},
   "outputs": [],
   "source": [
    "def find_median(arr1, arr2):\n",
    "    m, n = len(arr1), len(arr2)\n",
    "    merged_arr = []\n",
    "    i, j = 0, 0\n",
    "\n",
    "    while i < m and j < n:\n",
    "        if arr1[i] < arr2[j]:\n",
    "            merged_arr.append(arr1[i])\n",
    "            i += 1\n",
    "        else:\n",
    "            merged_arr.append(arr2[j])\n",
    "            j += 1\n",
    "\n",
    "\n",
    "    total_len = m + n\n",
    "    if total_len % 2 == 0:\n",
    "        return (merged_arr[total_len // 2 - 1] + merged_arr[total_len // 2]) / 2\n",
    "    else:\n",
    "        return merged_arr[total_len // 2]"
   ]
  },
  {
   "cell_type": "code",
   "execution_count": 31,
   "id": "e944cdf9",
   "metadata": {},
   "outputs": [
    {
     "name": "stdout",
     "output_type": "stream",
     "text": [
      "Median: 3.5\n"
     ]
    }
   ],
   "source": [
    "arr1 = [1, 3, 5]\n",
    "arr2 = [2, 4, 6]\n",
    "median = find_median(arr1, arr2)\n",
    "print(\"Median:\", median)"
   ]
  },
  {
   "cell_type": "markdown",
   "id": "1ee39e2c",
   "metadata": {},
   "source": [
    "### 3Sums"
   ]
  },
  {
   "cell_type": "code",
   "execution_count": 25,
   "id": "667ea91a",
   "metadata": {},
   "outputs": [],
   "source": [
    "def three_sum(nums):\n",
    "    results = []\n",
    "    nums.sort() \n",
    "    n = len(nums)\n",
    "\n",
    "    for i in range(n - 2):\n",
    "        if i > 0 and nums[i] == nums[i - 1]:\n",
    "            continue\n",
    "\n",
    "        # Two pointer approach - left and right pointers\n",
    "        left = i + 1\n",
    "        right = n - 1\n",
    "\n",
    "        while left < right:\n",
    "            sum = nums[i] + nums[left] + nums[right]\n",
    "\n",
    "            if sum < 0:\n",
    "                left += 1\n",
    "            elif sum > 0:\n",
    "                right -= 1\n",
    "            else:\n",
    "                results.append([nums[i], nums[left], nums[right]])\n",
    "                left += 1\n",
    "                right -= 1\n",
    "                \n",
    "                while left < right and nums[left] == nums[left - 1]:\n",
    "                    left += 1\n",
    "                while left < right and nums[right] == nums[right + 1]:\n",
    "                    right -= 1\n",
    "\n",
    "    return results"
   ]
  },
  {
   "cell_type": "code",
   "execution_count": 24,
   "id": "3fd7d033",
   "metadata": {},
   "outputs": [
    {
     "name": "stdout",
     "output_type": "stream",
     "text": [
      "Triplets that sum to zero: [[-1, -1, 2], [-1, 0, 1]]\n"
     ]
    }
   ],
   "source": [
    "nums = [-1, 0, 1, 2, -1, -4]\n",
    "triplets = three_sum(nums)\n",
    "print(\"Triplets that sum to zero:\", triplets)"
   ]
  },
  {
   "cell_type": "markdown",
   "id": "b28ebb97",
   "metadata": {},
   "source": [
    "### Find the pivot integer"
   ]
  },
  {
   "cell_type": "code",
   "execution_count": 12,
   "id": "b7012836",
   "metadata": {},
   "outputs": [],
   "source": [
    "def pivot_integer(n):\n",
    "    total_sum=sum(range(n+1))\n",
    "    sum_x=0\n",
    "    \n",
    "    for x in range(n+1):\n",
    "        if sum_x==(total_sum-sum_x-x):\n",
    "            return x\n",
    "        sum_x+=x\n",
    "            \n",
    "    return -1"
   ]
  },
  {
   "cell_type": "code",
   "execution_count": 15,
   "id": "b3f6e5b4",
   "metadata": {},
   "outputs": [
    {
     "name": "stdout",
     "output_type": "stream",
     "text": [
      "enter a number:3\n",
      "-1\n"
     ]
    }
   ],
   "source": [
    "n=int(input(\"enter a number:\"))\n",
    "print(pivot_integer(n))"
   ]
  },
  {
   "cell_type": "markdown",
   "id": "5d53a9df",
   "metadata": {},
   "source": [
    "### Valid parenthesis"
   ]
  },
  {
   "cell_type": "code",
   "execution_count": 2,
   "id": "9a0c0e15",
   "metadata": {},
   "outputs": [
    {
     "name": "stdout",
     "output_type": "stream",
     "text": [
      "Enter a string containing parentheses: )]fsd\n",
      "The parentheses are not balanced.\n"
     ]
    }
   ],
   "source": [
    "def is_valid_parentheses(s):\n",
    "    matching_parentheses = {')': '(', '}': '{', ']': '['}\n",
    "    stack = []\n",
    "    \n",
    "    for char in s:\n",
    "        if char in matching_parentheses.values():\n",
    "            stack.append(char)\n",
    "        elif char in matching_parentheses.keys():\n",
    "            if stack == [] or matching_parentheses[char] != stack.pop():\n",
    "                return False\n",
    "        else:\n",
    "            continue\n",
    "    \n",
    "    return stack == []\n",
    "\n",
    "input_string = input(\"Enter a string containing parentheses: \")\n",
    "if is_valid_parentheses(input_string):\n",
    "    print(\"The parentheses are balanced.\")\n",
    "else:\n",
    "    print(\"The parentheses are not balanced.\")"
   ]
  },
  {
   "cell_type": "markdown",
   "id": "27f3bff7",
   "metadata": {},
   "source": [
    "### house robber"
   ]
  },
  {
   "cell_type": "code",
   "execution_count": 10,
   "id": "5f211e8f",
   "metadata": {},
   "outputs": [
    {
     "name": "stdout",
     "output_type": "stream",
     "text": [
      "money in each house: 12 23 34 45 56 67 87 90\n",
      "[12, 23, 34, 45, 56, 67, 87, 90]\n",
      "h_no: 90\n",
      "sum_of_money: 124\n",
      "h_no: 90\n",
      "sum_of_money: 180\n",
      "h_no: 90\n",
      "sum_of_money: 267\n",
      "h_no: 90\n",
      "sum_of_money: 267\n"
     ]
    }
   ],
   "source": [
    "# Input the money in each house as a string and convert it to a list of integers\n",
    "input_in_string = input('money in each house: ')\n",
    "M = list(map(int, input_in_string.split()))\n",
    "print(M)\n",
    "\n",
    "i = 0  # Define i before using it\n",
    "\n",
    "while i < len(M):\n",
    "    h_no = M[i]  # Assign the current house number\n",
    "    sum_of_money = M[i]  # Initialize sum_of_money with the current house money\n",
    "    \n",
    "    if i + 2 < len(M):  # Check to avoid index out of range\n",
    "        sum_of_money += M[i + 2]  # Add the money from the house two steps ahead\n",
    "    \n",
    "    print(\"h_no:\", h_no)\n",
    "    print(\"sum_of_money:\", sum_of_money)\n",
    "    \n",
    "    i += 2  # Increment i by 2 to move to the next house pair"
   ]
  },
  {
   "cell_type": "code",
   "execution_count": 8,
   "id": "8380ba21",
   "metadata": {
    "scrolled": false
   },
   "outputs": [
    {
     "name": "stdout",
     "output_type": "stream",
     "text": [
      "money in each house:22 33 55 66 88 \n",
      "[22, 33, 55, 66, 88]\n",
      "165\n"
     ]
    }
   ],
   "source": [
    "input_in_string=input('money in each house:')\n",
    "nums=list(map(int,input_in_string.split()))\n",
    "print(nums)\n",
    "\n",
    "def rob(nums):\n",
    "    \n",
    "    if not nums:\n",
    "        return 0\n",
    "    if len(nums) == 1:\n",
    "        return nums[0]\n",
    "    dp = [0] * len(nums)\n",
    "    dp[0] = nums[0]\n",
    "    dp[1] = max(nums[0], nums[1])\n",
    "    for i in range(2, len(nums)):\n",
    "        dp[i] = max(dp[i-1], dp[i-2] + nums[i])\n",
    "    return dp[-1]\n",
    "    \n",
    "result =rob(nums)\n",
    "print(result)"
   ]
  },
  {
   "cell_type": "code",
   "execution_count": 8,
   "id": "31ea042f",
   "metadata": {},
   "outputs": [
    {
     "name": "stdout",
     "output_type": "stream",
     "text": [
      "list of numbers: 12 13 14 15 16 23 24 25 35 36 37 45 46 47 48\n",
      "[12, 13, 14, 15, 16, 23, 24, 25, 35, 36, 37, 45, 46, 47, 48]\n",
      "Even numbers in the list: [12, 14, 16, 24, 36, 46, 48]\n"
     ]
    }
   ],
   "source": [
    "def even(numbers):\n",
    "    even_numbers = []\n",
    "\n",
    "    for num in numbers:\n",
    "        if num % 2 == 0:\n",
    "            even_numbers.append(num)\n",
    "            \n",
    "    if even_numbers:\n",
    "        print('Even numbers in the list:', even_numbers)\n",
    "    else:\n",
    "        print('No even numbers in the list')\n",
    "\n",
    "input_ = input('list of numbers: ')\n",
    "numbers = list(map(int, input_.split()))\n",
    "print(numbers)\n",
    "even(numbers)\n"
   ]
  },
  {
   "cell_type": "markdown",
   "id": "338b873b",
   "metadata": {},
   "source": [
    "#### Unique numbers\n"
   ]
  },
  {
   "cell_type": "code",
   "execution_count": 2,
   "id": "e2cbaed9",
   "metadata": {},
   "outputs": [
    {
     "name": "stdout",
     "output_type": "stream",
     "text": [
      "[1, 2, 3, 4, 2, 4, 5, 6, 1, 12, 23, 22, 6]\n",
      "[1, 2, 3, 4, 5, 6, 12, 23, 22]\n"
     ]
    }
   ],
   "source": [
    "list=[1,2,3,4,2,4,5,6,1,12,23,22,6]\n",
    "Unique_numbers=[]\n",
    "for i in list:\n",
    "    if i not in Unique_numbers:\n",
    "        Unique_numbers.append(i)\n",
    "print(list)\n",
    "print(Unique_numbers)\n",
    "    "
   ]
  },
  {
   "cell_type": "markdown",
   "id": "3375aa96",
   "metadata": {},
   "source": [
    " Get a string from a given string where all occurrences of its first character have been changed to “$”, except the first char itself.\n",
    "Eg: input=”restart”\n",
    "output=”resta$t"
   ]
  },
  {
   "cell_type": "code",
   "execution_count": 6,
   "id": "c38e8e4a",
   "metadata": {},
   "outputs": [
    {
     "name": "stdout",
     "output_type": "stream",
     "text": [
      "malayalam\n",
      "Modified string: malayala$\n"
     ]
    }
   ],
   "source": [
    "word = input()\n",
    "I = word[0]\n",
    "\n",
    "Word = I + word[1:].replace(I, '$')\n",
    "\n",
    "print(\"Modified string:\", Word)\n",
    "\n",
    "    "
   ]
  },
  {
   "cell_type": "code",
   "execution_count": null,
   "id": "462beeda",
   "metadata": {},
   "outputs": [],
   "source": []
  }
 ],
 "metadata": {
  "kernelspec": {
   "display_name": "Python 3 (ipykernel)",
   "language": "python",
   "name": "python3"
  },
  "language_info": {
   "codemirror_mode": {
    "name": "ipython",
    "version": 3
   },
   "file_extension": ".py",
   "mimetype": "text/x-python",
   "name": "python",
   "nbconvert_exporter": "python",
   "pygments_lexer": "ipython3",
   "version": "3.11.5"
  }
 },
 "nbformat": 4,
 "nbformat_minor": 5
}
