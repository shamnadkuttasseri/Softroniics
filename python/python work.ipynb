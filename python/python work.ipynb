{
 "cells": [
  {
   "cell_type": "code",
   "execution_count": 1,
   "id": "2a8ec7af",
   "metadata": {},
   "outputs": [
    {
     "name": "stdout",
     "output_type": "stream",
     "text": [
      "malayalam\n",
      "Modified string: malayala$\n"
     ]
    }
   ],
   "source": [
    "word = input()\n",
    "I = word[0]\n",
    "\n",
    "Word = I + word[1:].replace(I, '$')\n",
    "\n",
    "print(\"Modified string:\", Word)\n"
   ]
  },
  {
   "cell_type": "code",
   "execution_count": null,
   "id": "2862b265",
   "metadata": {},
   "outputs": [],
   "source": []
  }
 ],
 "metadata": {
  "kernelspec": {
   "display_name": "Python 3 (ipykernel)",
   "language": "python",
   "name": "python3"
  },
  "language_info": {
   "codemirror_mode": {
    "name": "ipython",
    "version": 3
   },
   "file_extension": ".py",
   "mimetype": "text/x-python",
   "name": "python",
   "nbconvert_exporter": "python",
   "pygments_lexer": "ipython3",
   "version": "3.11.5"
  }
 },
 "nbformat": 4,
 "nbformat_minor": 5
}
