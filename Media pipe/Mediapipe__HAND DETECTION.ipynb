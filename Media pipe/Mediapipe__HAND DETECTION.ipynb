{
 "cells": [
  {
   "cell_type": "code",
   "execution_count": 8,
   "id": "58377fa0",
   "metadata": {},
   "outputs": [],
   "source": [
    "import mediapipe as mp\n",
    "import cv2"
   ]
  },
  {
   "cell_type": "code",
   "execution_count": 9,
   "id": "aa687857",
   "metadata": {},
   "outputs": [],
   "source": [
    "mp_drawings = mp.solutions.drawing_utils\n",
    "mp_drawing_styles = mp.solutions.drawing_styles\n",
    "mp_hands = mp.solutions.hands"
   ]
  },
  {
   "cell_type": "code",
   "execution_count": 10,
   "id": "08eb1144",
   "metadata": {},
   "outputs": [],
   "source": [
    "hands=mp_hands.Hands()"
   ]
  },
  {
   "cell_type": "code",
   "execution_count": 15,
   "id": "3587fd0f",
   "metadata": {},
   "outputs": [],
   "source": [
    "video=cv2.VideoCapture(0)\n",
    "while True:\n",
    "    suc,img=video.read()                  #Reading a Frame:suc,img=video.read() captures a feed from the video feed.\n",
    "    img=cv2.cvtColor(img,cv2.COLOR_BGR2RGB)#Color Conversion(BGR2RGB):img=cv2.cvtColor(img,cv2.COLOR_BGR2RGB)converts image from BGR(OpenCV's default) to RGB(required by Mediapipe)\n",
    "    result=hands.process(img)     #processes the image to detect\n",
    "    img=cv2.cvtColor(img,cv2.COLOR_RGB2BGR)#converts the image back to BGR from RGB\n",
    "    if result.multi_hand_landmarks:                  #loop iterates through each detected faces\n",
    "        for hand_landmarks in result.multi_hand_landmarks:\n",
    "            mp_drawings.draw_landmarks(img,hand_landmarks,mp_hands.HAND_CONNECTIONS) #draws detected image on the image\n",
    "    cv2.imshow('HAND',img)                      #dispays the image with detected faces.\n",
    "    if cv2.waitKey(1) & 0XFF==ord('q'):         #breaks the loop and exits if the 'q' key pressed.\n",
    "        break\n",
    "video.release()\n",
    "cv2.destroyAllWindows()"
   ]
  },
  {
   "cell_type": "code",
   "execution_count": 16,
   "id": "395a628e",
   "metadata": {
    "scrolled": true
   },
   "outputs": [
    {
     "data": {
      "text/plain": [
       "[landmark {\n",
       "   x: 0.747418582\n",
       "   y: 0.731416583\n",
       "   z: 4.50755493e-007\n",
       " }\n",
       " landmark {\n",
       "   x: 0.676422656\n",
       "   y: 0.696859837\n",
       "   z: -0.0317758135\n",
       " }\n",
       " landmark {\n",
       "   x: 0.615868151\n",
       "   y: 0.623349607\n",
       "   z: -0.0468663126\n",
       " }\n",
       " landmark {\n",
       "   x: 0.583629\n",
       "   y: 0.551701128\n",
       "   z: -0.0592249371\n",
       " }\n",
       " landmark {\n",
       "   x: 0.554534495\n",
       "   y: 0.489657044\n",
       "   z: -0.0705903918\n",
       " }\n",
       " landmark {\n",
       "   x: 0.661423266\n",
       "   y: 0.473460317\n",
       "   z: -0.0224404\n",
       " }\n",
       " landmark {\n",
       "   x: 0.644953609\n",
       "   y: 0.374116659\n",
       "   z: -0.0442753732\n",
       " }\n",
       " landmark {\n",
       "   x: 0.63533175\n",
       "   y: 0.312937558\n",
       "   z: -0.0641529709\n",
       " }\n",
       " landmark {\n",
       "   x: 0.628735483\n",
       "   y: 0.258573592\n",
       "   z: -0.0793091655\n",
       " }\n",
       " landmark {\n",
       "   x: 0.707513452\n",
       "   y: 0.457821727\n",
       "   z: -0.0254266877\n",
       " }\n",
       " landmark {\n",
       "   x: 0.697155356\n",
       "   y: 0.341885149\n",
       "   z: -0.0419604406\n",
       " }\n",
       " landmark {\n",
       "   x: 0.689884186\n",
       "   y: 0.270047069\n",
       "   z: -0.0585854799\n",
       " }\n",
       " landmark {\n",
       "   x: 0.68236959\n",
       "   y: 0.210507601\n",
       "   z: -0.0718066767\n",
       " }\n",
       " landmark {\n",
       "   x: 0.752148151\n",
       "   y: 0.467685\n",
       "   z: -0.0336171277\n",
       " }\n",
       " landmark {\n",
       "   x: 0.755099952\n",
       "   y: 0.363076985\n",
       "   z: -0.0521262325\n",
       " }\n",
       " landmark {\n",
       "   x: 0.75441581\n",
       "   y: 0.29497391\n",
       "   z: -0.0646918267\n",
       " }\n",
       " landmark {\n",
       "   x: 0.75071919\n",
       "   y: 0.235609293\n",
       "   z: -0.0746425912\n",
       " }\n",
       " landmark {\n",
       "   x: 0.796019077\n",
       "   y: 0.498267949\n",
       "   z: -0.0453194566\n",
       " }\n",
       " landmark {\n",
       "   x: 0.811566591\n",
       "   y: 0.421466827\n",
       "   z: -0.0623185635\n",
       " }\n",
       " landmark {\n",
       "   x: 0.821059942\n",
       "   y: 0.369693637\n",
       "   z: -0.0689177811\n",
       " }\n",
       " landmark {\n",
       "   x: 0.827597499\n",
       "   y: 0.322409391\n",
       "   z: -0.0738315359\n",
       " }]"
      ]
     },
     "execution_count": 16,
     "metadata": {},
     "output_type": "execute_result"
    }
   ],
   "source": [
    "result.multi_hand_landmarks"
   ]
  },
  {
   "cell_type": "code",
   "execution_count": null,
   "id": "9a8fbafc",
   "metadata": {},
   "outputs": [],
   "source": []
  }
 ],
 "metadata": {
  "kernelspec": {
   "display_name": "Python 3 (ipykernel)",
   "language": "python",
   "name": "python3"
  },
  "language_info": {
   "codemirror_mode": {
    "name": "ipython",
    "version": 3
   },
   "file_extension": ".py",
   "mimetype": "text/x-python",
   "name": "python",
   "nbconvert_exporter": "python",
   "pygments_lexer": "ipython3",
   "version": "3.11.5"
  }
 },
 "nbformat": 4,
 "nbformat_minor": 5
}
