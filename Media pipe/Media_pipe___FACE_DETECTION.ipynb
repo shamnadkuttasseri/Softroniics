{
 "cells": [
  {
   "cell_type": "markdown",
   "id": "e1c45fbd",
   "metadata": {},
   "source": [
    "#### Mediapipe:\n",
    "it is an open source framework developed by Google that offers customizable machine learning(ML) pipelines to process media data such as images,video,and\n",
    "audio.It provides a wide range of pre trained ML models and components to perform tasks.\n",
    "\n",
    "* pose estimation:Detecting and tracking human body poses in images and video.\n",
    "* Hand tracking:identifying  and tracking hands in images and video\n",
    "* Object Detection:detect objects in video and images\n",
    "* face detection:detect and track face in images and videos\n",
    "* face mesh:estimating fscial landmarks in real-time\n",
    "* Holistic:combining multiple components\n",
    "* Selfie segmentation:segmenting a persons image and background\n",
    "* hair segmentation:segmenting a hairs from image and video"
   ]
  },
  {
   "cell_type": "code",
   "execution_count": 1,
   "id": "52c53a9e",
   "metadata": {
    "scrolled": true
   },
   "outputs": [
    {
     "name": "stdout",
     "output_type": "stream",
     "text": [
      "Requirement already satisfied: mediapipe in c:\\users\\pc\\appdata\\roaming\\python\\python311\\site-packages (0.10.14)\n",
      "Requirement already satisfied: absl-py in c:\\users\\pc\\anaconda3\\lib\\site-packages (from mediapipe) (2.1.0)\n",
      "Requirement already satisfied: attrs>=19.1.0 in c:\\users\\pc\\anaconda3\\lib\\site-packages (from mediapipe) (22.1.0)\n",
      "Requirement already satisfied: flatbuffers>=2.0 in c:\\users\\pc\\anaconda3\\lib\\site-packages (from mediapipe) (24.3.25)\n",
      "Requirement already satisfied: jax in c:\\users\\pc\\appdata\\roaming\\python\\python311\\site-packages (from mediapipe) (0.4.30)\n",
      "Requirement already satisfied: jaxlib in c:\\users\\pc\\appdata\\roaming\\python\\python311\\site-packages (from mediapipe) (0.4.30)\n",
      "Requirement already satisfied: matplotlib in c:\\users\\pc\\anaconda3\\lib\\site-packages (from mediapipe) (3.7.2)\n",
      "Requirement already satisfied: numpy in c:\\users\\pc\\anaconda3\\lib\\site-packages (from mediapipe) (1.24.3)\n",
      "Requirement already satisfied: opencv-contrib-python in c:\\users\\pc\\appdata\\roaming\\python\\python311\\site-packages (from mediapipe) (4.10.0.84)\n",
      "Requirement already satisfied: protobuf<5,>=4.25.3 in c:\\users\\pc\\anaconda3\\lib\\site-packages (from mediapipe) (4.25.3)\n",
      "Requirement already satisfied: sounddevice>=0.4.4 in c:\\users\\pc\\appdata\\roaming\\python\\python311\\site-packages (from mediapipe) (0.4.7)\n",
      "Requirement already satisfied: CFFI>=1.0 in c:\\users\\pc\\anaconda3\\lib\\site-packages (from sounddevice>=0.4.4->mediapipe) (1.15.1)\n",
      "Requirement already satisfied: ml-dtypes>=0.2.0 in c:\\users\\pc\\anaconda3\\lib\\site-packages (from jax->mediapipe) (0.3.2)\n",
      "Requirement already satisfied: opt-einsum in c:\\users\\pc\\anaconda3\\lib\\site-packages (from jax->mediapipe) (3.3.0)\n",
      "Requirement already satisfied: scipy>=1.9 in c:\\users\\pc\\anaconda3\\lib\\site-packages (from jax->mediapipe) (1.11.1)\n",
      "Requirement already satisfied: contourpy>=1.0.1 in c:\\users\\pc\\anaconda3\\lib\\site-packages (from matplotlib->mediapipe) (1.0.5)\n",
      "Requirement already satisfied: cycler>=0.10 in c:\\users\\pc\\anaconda3\\lib\\site-packages (from matplotlib->mediapipe) (0.11.0)\n",
      "Requirement already satisfied: fonttools>=4.22.0 in c:\\users\\pc\\anaconda3\\lib\\site-packages (from matplotlib->mediapipe) (4.25.0)\n",
      "Requirement already satisfied: kiwisolver>=1.0.1 in c:\\users\\pc\\anaconda3\\lib\\site-packages (from matplotlib->mediapipe) (1.4.4)\n",
      "Requirement already satisfied: packaging>=20.0 in c:\\users\\pc\\anaconda3\\lib\\site-packages (from matplotlib->mediapipe) (23.1)\n",
      "Requirement already satisfied: pillow>=6.2.0 in c:\\users\\pc\\anaconda3\\lib\\site-packages (from matplotlib->mediapipe) (9.4.0)\n",
      "Requirement already satisfied: pyparsing<3.1,>=2.3.1 in c:\\users\\pc\\anaconda3\\lib\\site-packages (from matplotlib->mediapipe) (3.0.9)\n",
      "Requirement already satisfied: python-dateutil>=2.7 in c:\\users\\pc\\anaconda3\\lib\\site-packages (from matplotlib->mediapipe) (2.8.2)\n",
      "Requirement already satisfied: pycparser in c:\\users\\pc\\anaconda3\\lib\\site-packages (from CFFI>=1.0->sounddevice>=0.4.4->mediapipe) (2.21)\n",
      "Requirement already satisfied: six>=1.5 in c:\\users\\pc\\anaconda3\\lib\\site-packages (from python-dateutil>=2.7->matplotlib->mediapipe) (1.16.0)\n",
      "Note: you may need to restart the kernel to use updated packages.\n"
     ]
    }
   ],
   "source": [
    "pip install mediapipe --user\n"
   ]
  },
  {
   "cell_type": "code",
   "execution_count": 2,
   "id": "76d98f5b",
   "metadata": {},
   "outputs": [],
   "source": [
    "import mediapipe as mp\n",
    "import cv2"
   ]
  },
  {
   "cell_type": "code",
   "execution_count": 3,
   "id": "c909284a",
   "metadata": {},
   "outputs": [],
   "source": [
    "mp_facedetection=mp.solutions.face_detection\n",
    "mp_drawings=mp.solutions.drawing_utils"
   ]
  },
  {
   "cell_type": "markdown",
   "id": "d0372990",
   "metadata": {},
   "source": [
    "mp_facedetection=mp.solutions.face_detection:import face detection module from mediapipe library and assigns it to the variable mp_facedetection.module provide fuctionality in detecting faces.\n",
    "\n",
    "mp_drawings=mp.solutions.drawing_utils:import the drawing utitlities module from the mediapipe library assigning the variable mp_drawings.contains functions for drawing annotations."
   ]
  },
  {
   "cell_type": "code",
   "execution_count": 4,
   "id": "f200786f",
   "metadata": {},
   "outputs": [],
   "source": [
    "face_detection=mp_facedetection.FaceDetection()"
   ]
  },
  {
   "cell_type": "markdown",
   "id": "38c00a4f",
   "metadata": {},
   "source": [
    "FaceDetection class in mediapipe library utilizes a pre-trained machine learning model to detect faces in images or video frames.This model has been trained on a large dataset of annoted images. allowing it to learn features and patterns associated with human faces."
   ]
  },
  {
   "cell_type": "code",
   "execution_count": 5,
   "id": "7ec649ea",
   "metadata": {},
   "outputs": [
    {
     "name": "stderr",
     "output_type": "stream",
     "text": [
      "C:\\Users\\pc\\anaconda3\\Lib\\site-packages\\google\\protobuf\\symbol_database.py:55: UserWarning: SymbolDatabase.GetPrototype() is deprecated. Please use message_factory.GetMessageClass() instead. SymbolDatabase.GetPrototype() will be removed soon.\n",
      "  warnings.warn('SymbolDatabase.GetPrototype() is deprecated. Please '\n"
     ]
    }
   ],
   "source": [
    "video=cv2.VideoCapture(0)\n",
    "while True:\n",
    "    suc,img=video.read()                  #Reading a Frame:suc,img=video.read() captures a feed from the video feed.\n",
    "    img=cv2.cvtColor(img,cv2.COLOR_BGR2RGB)#Color Conversion(BGR2RGB):img=cv2.cvtColor(img,cv2.COLOR_BGR2RGB)converts image from BGR(OpenCV's default) to RGB(required by Mediapipe)\n",
    "    result=face_detection.process(img)     #processes the image to detect\n",
    "    img=cv2.cvtColor(img,cv2.COLOR_RGB2BGR)#converts the image back to BGR from RGB\n",
    "    if result.detections:                  #loop iterates through each detected faces\n",
    "        for det in result.detections:\n",
    "            mp_drawings.draw_detection(img,det) #draws detected image on the image\n",
    "    cv2.imshow('FACE',img)                      #dispays the image with detected faces.\n",
    "    if cv2.waitKey(1)& 0XFF==ord('q'):         #breaks the loop and exits if the 'q' key pressed.\n",
    "        break\n",
    "video.release()\n",
    "cv2.destroyAllWindows()"
   ]
  },
  {
   "cell_type": "markdown",
   "id": "bf5a0d2f",
   "metadata": {},
   "source": [
    "cv2.waitKey(1): Waits for 1 millisecond for a key event.\n",
    "cv2.waitKey(1) & 0xFF: The bitwise AND operation ensures the result is within the ASCII range.\n",
    "== ord('q'): Compares the result to the ASCII value of 'q' to check if 'q' was pressed.\n",
    "If 'q' is pressed, the loop breaks, ending the video capture."
   ]
  },
  {
   "cell_type": "code",
   "execution_count": 6,
   "id": "117da313",
   "metadata": {},
   "outputs": [
    {
     "data": {
      "text/plain": [
       "[label_id: 0\n",
       " score: 0.935952187\n",
       " location_data {\n",
       "   format: RELATIVE_BOUNDING_BOX\n",
       "   relative_bounding_box {\n",
       "     xmin: 0.513690352\n",
       "     ymin: 0.292456329\n",
       "     width: 0.282011628\n",
       "     height: 0.375997305\n",
       "   }\n",
       "   relative_keypoints {\n",
       "     x: 0.623855054\n",
       "     y: 0.382247329\n",
       "   }\n",
       "   relative_keypoints {\n",
       "     x: 0.739949167\n",
       "     y: 0.393832982\n",
       "   }\n",
       "   relative_keypoints {\n",
       "     x: 0.697512448\n",
       "     y: 0.46908468\n",
       "   }\n",
       "   relative_keypoints {\n",
       "     x: 0.684286892\n",
       "     y: 0.552974284\n",
       "   }\n",
       "   relative_keypoints {\n",
       "     x: 0.522879481\n",
       "     y: 0.425482869\n",
       "   }\n",
       "   relative_keypoints {\n",
       "     x: 0.771185\n",
       "     y: 0.446297705\n",
       "   }\n",
       " }]"
      ]
     },
     "execution_count": 6,
     "metadata": {},
     "output_type": "execute_result"
    }
   ],
   "source": [
    "result.detections"
   ]
  },
  {
   "cell_type": "markdown",
   "id": "644eddc0",
   "metadata": {},
   "source": [
    "\n",
    "\n",
    "\n"
   ]
  }
 ],
 "metadata": {
  "kernelspec": {
   "display_name": "Python 3 (ipykernel)",
   "language": "python",
   "name": "python3"
  },
  "language_info": {
   "codemirror_mode": {
    "name": "ipython",
    "version": 3
   },
   "file_extension": ".py",
   "mimetype": "text/x-python",
   "name": "python",
   "nbconvert_exporter": "python",
   "pygments_lexer": "ipython3",
   "version": "3.11.5"
  }
 },
 "nbformat": 4,
 "nbformat_minor": 5
}
